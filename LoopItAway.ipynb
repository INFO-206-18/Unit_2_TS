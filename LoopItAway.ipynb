{
 "cells": [
  {
   "cell_type": "markdown",
   "metadata": {},
   "source": [
    "### Outline\n",
    "\n",
    "1. Quick review of if/else [10min]\n",
    "2. If else questions [15 min]\n",
    "\n",
    "3. Quick review of while/for loops [15 min]\n",
    "4. While/for questions [20 min]\n",
    "\n",
    "5. Presentations [20 min]"
   ]
  },
  {
   "cell_type": "markdown",
   "metadata": {},
   "source": [
    "#### If else + loops\n",
    "### Q1"
   ]
  },
  {
   "cell_type": "code",
   "execution_count": null,
   "metadata": {},
   "outputs": [],
   "source": [
    "day = input()\n",
    "gsi = 'Neha'\n",
    "TT = True\n",
    "if day == 'Tuesday':\n",
    "    if gsi == 'Neha':\n",
    "        print('Extremeley fun')\n",
    "    else:\n",
    "        print('fun')\n",
    "elif day == 'Thursday':\n",
    "    if TT:\n",
    "        print('lit')"
   ]
  },
  {
   "cell_type": "markdown",
   "metadata": {},
   "source": [
    "1. Is there anything problematic in the above code?\n",
    "2. Is there another way of writing the same logic? "
   ]
  },
  {
   "cell_type": "markdown",
   "metadata": {},
   "source": [
    "### Q2"
   ]
  },
  {
   "cell_type": "markdown",
   "metadata": {},
   "source": [
    "Express your feelings: write code that prints your mood on a particular day in a specific class. Feelings can change if there's free lunch provided :)\n",
    "\n",
    "Allowed inputs:\n",
    "Day: Monday, Tuesday, Wednesday\n",
    "Class: 'Info 251', 'Info 206', 'Info 232'\n",
    "Free lunch: True, False\n",
    "\n",
    "A user should be able to input a day, class and if there is free lunch provided and assess your mood in that situation"
   ]
  },
  {
   "cell_type": "markdown",
   "metadata": {},
   "source": [
    "### Q3 \n",
    "\n",
    "A school has following rules for grading system:\n",
    "a. Below 25 - F\n",
    "b. 25 to 45 - E\n",
    "c. 45 to 50 - D\n",
    "d. 50 to 60 - C\n",
    "e. 60 to 80 - B\n",
    "f. Above 80 - A\n",
    "Ask user to enter marks and print the corresponding grade.\n",
    "\n"
   ]
  },
  {
   "cell_type": "markdown",
   "metadata": {},
   "source": [
    "### Q4\n",
    "\n",
    "Convert the following while loop into a for loop"
   ]
  },
  {
   "cell_type": "code",
   "execution_count": null,
   "metadata": {},
   "outputs": [],
   "source": [
    "x = 20\n",
    "count = 0\n",
    "while x > 0:\n",
    "    count += 1\n",
    "    x -= 1\n",
    "    print('Iteration count ' + str(count))"
   ]
  },
  {
   "cell_type": "markdown",
   "metadata": {},
   "source": [
    "### Q5\n",
    "Print the following pattern:"
   ]
  },
  {
   "cell_type": "code",
   "execution_count": null,
   "metadata": {},
   "outputs": [],
   "source": [
    "1\n",
    "22\n",
    "333\n",
    "4444\n",
    "55555\n",
    "666666\n",
    "7777777"
   ]
  },
  {
   "cell_type": "markdown",
   "metadata": {},
   "source": [
    "### Q6\n",
    "\n",
    "Part 1: \n",
    "Print the factorial of a number (taken as input). A factorial of x is defined as the multiplication of all natural numbers until x.\n",
    "Example: factorial of 4 = 1*2*3*4 = 24, factorial of 5= 120 etc\n",
    "\n",
    "Part 2: Print factorials of every number from 1-n (n is based on user input)\n"
   ]
  },
  {
   "cell_type": "markdown",
   "metadata": {},
   "source": [
    "### Q7\n",
    "\n",
    "#### Design your fall semester!\n",
    "\n",
    "##### Inputs: \n",
    "course name, course credits, requirements fulfilled\n",
    "example: \n",
    "\n",
    "#### info206, 2, core\n",
    "#### info271, 3, socialsciences\n",
    "#### info251, 4, tech\n",
    "\n",
    "##### Constraints: \n",
    "No more than 20.5 credits, no less than 12 credits\n",
    "At least 1 core course\n",
    "No more than 5 credits toward tech requirements\n",
    "\n",
    "##### Output: \n",
    "If no combination satisfies all constraints, print an error message, otherwise, print one possible combination of courses. You must print every course name and number of credits each one carries. \n",
    "Bonus: Print all possible combinations\n",
    "\n",
    "You can design the input layer as you wish, as long as the user can enter name, credits and requirements of as many courses as they wish to"
   ]
  },
  {
   "cell_type": "markdown",
   "metadata": {},
   "source": []
  }
 ],
 "metadata": {
  "kernelspec": {
   "display_name": "Python 3",
   "language": "python",
   "name": "python3"
  },
  "language_info": {
   "codemirror_mode": {
    "name": "ipython",
    "version": 3
   },
   "file_extension": ".py",
   "mimetype": "text/x-python",
   "name": "python",
   "nbconvert_exporter": "python",
   "pygments_lexer": "ipython3",
   "version": "3.6.2"
  }
 },
 "nbformat": 4,
 "nbformat_minor": 2
}
